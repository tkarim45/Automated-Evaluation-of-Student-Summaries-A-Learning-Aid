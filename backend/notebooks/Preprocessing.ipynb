{
 "cells": [
  {
   "cell_type": "markdown",
   "metadata": {},
   "source": [
    "# Importing Libraries\n"
   ]
  },
  {
   "cell_type": "code",
   "execution_count": 1,
   "metadata": {},
   "outputs": [
    {
     "name": "stderr",
     "output_type": "stream",
     "text": [
      "/Users/taimourabdulkarim/miniconda3/envs/mlp/lib/python3.9/site-packages/tqdm/auto.py:21: TqdmWarning: IProgress not found. Please update jupyter and ipywidgets. See https://ipywidgets.readthedocs.io/en/stable/user_install.html\n",
      "  from .autonotebook import tqdm as notebook_tqdm\n"
     ]
    }
   ],
   "source": [
    "import numpy as np\n",
    "import pandas as pd\n",
    "import os\n",
    "import seaborn as sns\n",
    "import matplotlib.pyplot as plt\n",
    "from collections import Counter\n",
    "\n",
    "import torch\n",
    "from transformers import BertTokenizer, BertForSequenceClassification\n",
    "from torch.utils.data import Dataset, DataLoader\n",
    "from sklearn.model_selection import train_test_split\n",
    "from torch.nn import MSELoss\n",
    "from torch.optim import AdamW\n",
    "\n",
    "\n",
    "import nltk\n",
    "from nltk.corpus import stopwords\n",
    "from nltk.util import ngrams"
   ]
  },
  {
   "cell_type": "code",
   "execution_count": 2,
   "metadata": {},
   "outputs": [
    {
     "name": "stderr",
     "output_type": "stream",
     "text": [
      "[nltk_data] Downloading package punkt to\n",
      "[nltk_data]     /Users/taimourabdulkarim/nltk_data...\n",
      "[nltk_data]   Package punkt is already up-to-date!\n"
     ]
    },
    {
     "data": {
      "text/plain": [
       "True"
      ]
     },
     "execution_count": 2,
     "metadata": {},
     "output_type": "execute_result"
    }
   ],
   "source": [
    "# Download the 'punkt' tokenizer data\n",
    "nltk.download(\"punkt\")"
   ]
  },
  {
   "cell_type": "code",
   "execution_count": 3,
   "metadata": {},
   "outputs": [
    {
     "name": "stderr",
     "output_type": "stream",
     "text": [
      "[nltk_data] Downloading package stopwords to\n",
      "[nltk_data]     /Users/taimourabdulkarim/nltk_data...\n",
      "[nltk_data]   Package stopwords is already up-to-date!\n"
     ]
    },
    {
     "data": {
      "text/plain": [
       "True"
      ]
     },
     "execution_count": 3,
     "metadata": {},
     "output_type": "execute_result"
    }
   ],
   "source": [
    "nltk.download(\"stopwords\")"
   ]
  },
  {
   "cell_type": "markdown",
   "metadata": {},
   "source": [
    "# Importing Dataset\n"
   ]
  },
  {
   "cell_type": "code",
   "execution_count": 4,
   "metadata": {},
   "outputs": [],
   "source": [
    "prompt_train = pd.read_csv(\n",
    "    \"Dataset/commonlit-evaluate-student-summaries/prompts_train.csv\"\n",
    ")\n",
    "prompt_test = pd.read_csv(\n",
    "    \"Dataset/commonlit-evaluate-student-summaries/prompts_test.csv\"\n",
    ")\n",
    "\n",
    "summary_train = pd.read_csv(\n",
    "    \"Dataset/commonlit-evaluate-student-summaries/summaries_train.csv\"\n",
    ")\n",
    "summary_test = pd.read_csv(\n",
    "    \"Dataset/commonlit-evaluate-student-summaries/summaries_test.csv\"\n",
    ")"
   ]
  },
  {
   "cell_type": "code",
   "execution_count": 5,
   "metadata": {},
   "outputs": [
    {
     "data": {
      "text/html": [
       "<div>\n",
       "<style scoped>\n",
       "    .dataframe tbody tr th:only-of-type {\n",
       "        vertical-align: middle;\n",
       "    }\n",
       "\n",
       "    .dataframe tbody tr th {\n",
       "        vertical-align: top;\n",
       "    }\n",
       "\n",
       "    .dataframe thead th {\n",
       "        text-align: right;\n",
       "    }\n",
       "</style>\n",
       "<table border=\"1\" class=\"dataframe\">\n",
       "  <thead>\n",
       "    <tr style=\"text-align: right;\">\n",
       "      <th></th>\n",
       "      <th>prompt_id</th>\n",
       "      <th>prompt_question</th>\n",
       "      <th>prompt_title</th>\n",
       "      <th>prompt_text</th>\n",
       "    </tr>\n",
       "  </thead>\n",
       "  <tbody>\n",
       "    <tr>\n",
       "      <th>0</th>\n",
       "      <td>39c16e</td>\n",
       "      <td>Summarize at least 3 elements of an ideal trag...</td>\n",
       "      <td>On Tragedy</td>\n",
       "      <td>Chapter 13 \\r\\nAs the sequel to what has alrea...</td>\n",
       "    </tr>\n",
       "    <tr>\n",
       "      <th>1</th>\n",
       "      <td>3b9047</td>\n",
       "      <td>In complete sentences, summarize the structure...</td>\n",
       "      <td>Egyptian Social Structure</td>\n",
       "      <td>Egyptian society was structured like a pyramid...</td>\n",
       "    </tr>\n",
       "    <tr>\n",
       "      <th>2</th>\n",
       "      <td>814d6b</td>\n",
       "      <td>Summarize how the Third Wave developed over su...</td>\n",
       "      <td>The Third Wave</td>\n",
       "      <td>Background \\r\\nThe Third Wave experiment took ...</td>\n",
       "    </tr>\n",
       "    <tr>\n",
       "      <th>3</th>\n",
       "      <td>ebad26</td>\n",
       "      <td>Summarize the various ways the factory would u...</td>\n",
       "      <td>Excerpt from The Jungle</td>\n",
       "      <td>With one member trimming beef in a cannery, an...</td>\n",
       "    </tr>\n",
       "  </tbody>\n",
       "</table>\n",
       "</div>"
      ],
      "text/plain": [
       "  prompt_id                                    prompt_question  \\\n",
       "0    39c16e  Summarize at least 3 elements of an ideal trag...   \n",
       "1    3b9047  In complete sentences, summarize the structure...   \n",
       "2    814d6b  Summarize how the Third Wave developed over su...   \n",
       "3    ebad26  Summarize the various ways the factory would u...   \n",
       "\n",
       "                prompt_title  \\\n",
       "0                 On Tragedy   \n",
       "1  Egyptian Social Structure   \n",
       "2             The Third Wave   \n",
       "3    Excerpt from The Jungle   \n",
       "\n",
       "                                         prompt_text  \n",
       "0  Chapter 13 \\r\\nAs the sequel to what has alrea...  \n",
       "1  Egyptian society was structured like a pyramid...  \n",
       "2  Background \\r\\nThe Third Wave experiment took ...  \n",
       "3  With one member trimming beef in a cannery, an...  "
      ]
     },
     "execution_count": 5,
     "metadata": {},
     "output_type": "execute_result"
    }
   ],
   "source": [
    "prompt_train.head()"
   ]
  },
  {
   "cell_type": "code",
   "execution_count": 6,
   "metadata": {},
   "outputs": [
    {
     "data": {
      "text/html": [
       "<div>\n",
       "<style scoped>\n",
       "    .dataframe tbody tr th:only-of-type {\n",
       "        vertical-align: middle;\n",
       "    }\n",
       "\n",
       "    .dataframe tbody tr th {\n",
       "        vertical-align: top;\n",
       "    }\n",
       "\n",
       "    .dataframe thead th {\n",
       "        text-align: right;\n",
       "    }\n",
       "</style>\n",
       "<table border=\"1\" class=\"dataframe\">\n",
       "  <thead>\n",
       "    <tr style=\"text-align: right;\">\n",
       "      <th></th>\n",
       "      <th>prompt_id</th>\n",
       "      <th>prompt_question</th>\n",
       "      <th>prompt_title</th>\n",
       "      <th>prompt_text</th>\n",
       "    </tr>\n",
       "  </thead>\n",
       "  <tbody>\n",
       "    <tr>\n",
       "      <th>0</th>\n",
       "      <td>abc123</td>\n",
       "      <td>Summarize...</td>\n",
       "      <td>Example Title 1</td>\n",
       "      <td>Heading\\nText...</td>\n",
       "    </tr>\n",
       "    <tr>\n",
       "      <th>1</th>\n",
       "      <td>def789</td>\n",
       "      <td>Summarize...</td>\n",
       "      <td>Example Title 2</td>\n",
       "      <td>Heading\\nText...</td>\n",
       "    </tr>\n",
       "  </tbody>\n",
       "</table>\n",
       "</div>"
      ],
      "text/plain": [
       "  prompt_id prompt_question     prompt_title       prompt_text\n",
       "0    abc123    Summarize...  Example Title 1  Heading\\nText...\n",
       "1    def789    Summarize...  Example Title 2  Heading\\nText..."
      ]
     },
     "execution_count": 6,
     "metadata": {},
     "output_type": "execute_result"
    }
   ],
   "source": [
    "prompt_test.head()"
   ]
  },
  {
   "cell_type": "code",
   "execution_count": 7,
   "metadata": {},
   "outputs": [
    {
     "data": {
      "text/html": [
       "<div>\n",
       "<style scoped>\n",
       "    .dataframe tbody tr th:only-of-type {\n",
       "        vertical-align: middle;\n",
       "    }\n",
       "\n",
       "    .dataframe tbody tr th {\n",
       "        vertical-align: top;\n",
       "    }\n",
       "\n",
       "    .dataframe thead th {\n",
       "        text-align: right;\n",
       "    }\n",
       "</style>\n",
       "<table border=\"1\" class=\"dataframe\">\n",
       "  <thead>\n",
       "    <tr style=\"text-align: right;\">\n",
       "      <th></th>\n",
       "      <th>student_id</th>\n",
       "      <th>prompt_id</th>\n",
       "      <th>text</th>\n",
       "      <th>content</th>\n",
       "      <th>wording</th>\n",
       "    </tr>\n",
       "  </thead>\n",
       "  <tbody>\n",
       "    <tr>\n",
       "      <th>0</th>\n",
       "      <td>000e8c3c7ddb</td>\n",
       "      <td>814d6b</td>\n",
       "      <td>The third wave was an experimentto see how peo...</td>\n",
       "      <td>0.205683</td>\n",
       "      <td>0.380538</td>\n",
       "    </tr>\n",
       "    <tr>\n",
       "      <th>1</th>\n",
       "      <td>0020ae56ffbf</td>\n",
       "      <td>ebad26</td>\n",
       "      <td>They would rub it up with soda to make the sme...</td>\n",
       "      <td>-0.548304</td>\n",
       "      <td>0.506755</td>\n",
       "    </tr>\n",
       "    <tr>\n",
       "      <th>2</th>\n",
       "      <td>004e978e639e</td>\n",
       "      <td>3b9047</td>\n",
       "      <td>In Egypt, there were many occupations and soci...</td>\n",
       "      <td>3.128928</td>\n",
       "      <td>4.231226</td>\n",
       "    </tr>\n",
       "    <tr>\n",
       "      <th>3</th>\n",
       "      <td>005ab0199905</td>\n",
       "      <td>3b9047</td>\n",
       "      <td>The highest class was Pharaohs these people we...</td>\n",
       "      <td>-0.210614</td>\n",
       "      <td>-0.471415</td>\n",
       "    </tr>\n",
       "    <tr>\n",
       "      <th>4</th>\n",
       "      <td>0070c9e7af47</td>\n",
       "      <td>814d6b</td>\n",
       "      <td>The Third Wave developed  rapidly because the ...</td>\n",
       "      <td>3.272894</td>\n",
       "      <td>3.219757</td>\n",
       "    </tr>\n",
       "  </tbody>\n",
       "</table>\n",
       "</div>"
      ],
      "text/plain": [
       "     student_id prompt_id                                               text  \\\n",
       "0  000e8c3c7ddb    814d6b  The third wave was an experimentto see how peo...   \n",
       "1  0020ae56ffbf    ebad26  They would rub it up with soda to make the sme...   \n",
       "2  004e978e639e    3b9047  In Egypt, there were many occupations and soci...   \n",
       "3  005ab0199905    3b9047  The highest class was Pharaohs these people we...   \n",
       "4  0070c9e7af47    814d6b  The Third Wave developed  rapidly because the ...   \n",
       "\n",
       "    content   wording  \n",
       "0  0.205683  0.380538  \n",
       "1 -0.548304  0.506755  \n",
       "2  3.128928  4.231226  \n",
       "3 -0.210614 -0.471415  \n",
       "4  3.272894  3.219757  "
      ]
     },
     "execution_count": 7,
     "metadata": {},
     "output_type": "execute_result"
    }
   ],
   "source": [
    "summary_train.head()"
   ]
  },
  {
   "cell_type": "code",
   "execution_count": 8,
   "metadata": {},
   "outputs": [
    {
     "data": {
      "text/html": [
       "<div>\n",
       "<style scoped>\n",
       "    .dataframe tbody tr th:only-of-type {\n",
       "        vertical-align: middle;\n",
       "    }\n",
       "\n",
       "    .dataframe tbody tr th {\n",
       "        vertical-align: top;\n",
       "    }\n",
       "\n",
       "    .dataframe thead th {\n",
       "        text-align: right;\n",
       "    }\n",
       "</style>\n",
       "<table border=\"1\" class=\"dataframe\">\n",
       "  <thead>\n",
       "    <tr style=\"text-align: right;\">\n",
       "      <th></th>\n",
       "      <th>student_id</th>\n",
       "      <th>prompt_id</th>\n",
       "      <th>text</th>\n",
       "    </tr>\n",
       "  </thead>\n",
       "  <tbody>\n",
       "    <tr>\n",
       "      <th>0</th>\n",
       "      <td>000000ffffff</td>\n",
       "      <td>abc123</td>\n",
       "      <td>Example text 1</td>\n",
       "    </tr>\n",
       "    <tr>\n",
       "      <th>1</th>\n",
       "      <td>111111eeeeee</td>\n",
       "      <td>def789</td>\n",
       "      <td>Example text 2</td>\n",
       "    </tr>\n",
       "    <tr>\n",
       "      <th>2</th>\n",
       "      <td>222222cccccc</td>\n",
       "      <td>abc123</td>\n",
       "      <td>Example text 3</td>\n",
       "    </tr>\n",
       "    <tr>\n",
       "      <th>3</th>\n",
       "      <td>333333dddddd</td>\n",
       "      <td>def789</td>\n",
       "      <td>Example text 4</td>\n",
       "    </tr>\n",
       "  </tbody>\n",
       "</table>\n",
       "</div>"
      ],
      "text/plain": [
       "     student_id prompt_id            text\n",
       "0  000000ffffff    abc123  Example text 1\n",
       "1  111111eeeeee    def789  Example text 2\n",
       "2  222222cccccc    abc123  Example text 3\n",
       "3  333333dddddd    def789  Example text 4"
      ]
     },
     "execution_count": 8,
     "metadata": {},
     "output_type": "execute_result"
    }
   ],
   "source": [
    "summary_test.head()"
   ]
  },
  {
   "cell_type": "markdown",
   "metadata": {},
   "source": [
    "# Data Preprocessing\n"
   ]
  },
  {
   "cell_type": "markdown",
   "metadata": {},
   "source": [
    "### Merge the Datasets\n",
    "\n",
    "merging the train data on basis of promptId\n"
   ]
  },
  {
   "cell_type": "code",
   "execution_count": 9,
   "metadata": {},
   "outputs": [],
   "source": [
    "df_train = pd.merge(prompt_train, summary_train, on=\"prompt_id\")\n",
    "df_test = pd.merge(prompt_test, summary_test, on=\"prompt_id\")"
   ]
  },
  {
   "cell_type": "code",
   "execution_count": 10,
   "metadata": {},
   "outputs": [],
   "source": [
    "# take only first 10 rows for now\n",
    "# df_train = df_train.head(10)"
   ]
  },
  {
   "cell_type": "code",
   "execution_count": 11,
   "metadata": {},
   "outputs": [
    {
     "data": {
      "text/html": [
       "<div>\n",
       "<style scoped>\n",
       "    .dataframe tbody tr th:only-of-type {\n",
       "        vertical-align: middle;\n",
       "    }\n",
       "\n",
       "    .dataframe tbody tr th {\n",
       "        vertical-align: top;\n",
       "    }\n",
       "\n",
       "    .dataframe thead th {\n",
       "        text-align: right;\n",
       "    }\n",
       "</style>\n",
       "<table border=\"1\" class=\"dataframe\">\n",
       "  <thead>\n",
       "    <tr style=\"text-align: right;\">\n",
       "      <th></th>\n",
       "      <th>prompt_id</th>\n",
       "      <th>prompt_question</th>\n",
       "      <th>prompt_title</th>\n",
       "      <th>prompt_text</th>\n",
       "      <th>student_id</th>\n",
       "      <th>text</th>\n",
       "      <th>content</th>\n",
       "      <th>wording</th>\n",
       "    </tr>\n",
       "  </thead>\n",
       "  <tbody>\n",
       "    <tr>\n",
       "      <th>0</th>\n",
       "      <td>39c16e</td>\n",
       "      <td>Summarize at least 3 elements of an ideal trag...</td>\n",
       "      <td>On Tragedy</td>\n",
       "      <td>Chapter 13 \\r\\nAs the sequel to what has alrea...</td>\n",
       "      <td>00791789cc1f</td>\n",
       "      <td>1 element of an ideal tragedy is that it shoul...</td>\n",
       "      <td>-0.210614</td>\n",
       "      <td>-0.471415</td>\n",
       "    </tr>\n",
       "    <tr>\n",
       "      <th>1</th>\n",
       "      <td>39c16e</td>\n",
       "      <td>Summarize at least 3 elements of an ideal trag...</td>\n",
       "      <td>On Tragedy</td>\n",
       "      <td>Chapter 13 \\r\\nAs the sequel to what has alrea...</td>\n",
       "      <td>0086ef22de8f</td>\n",
       "      <td>The three elements of an ideal tragedy are:  H...</td>\n",
       "      <td>-0.970237</td>\n",
       "      <td>-0.417058</td>\n",
       "    </tr>\n",
       "    <tr>\n",
       "      <th>2</th>\n",
       "      <td>39c16e</td>\n",
       "      <td>Summarize at least 3 elements of an ideal trag...</td>\n",
       "      <td>On Tragedy</td>\n",
       "      <td>Chapter 13 \\r\\nAs the sequel to what has alrea...</td>\n",
       "      <td>0094589c7a22</td>\n",
       "      <td>Aristotle states that an ideal tragedy should ...</td>\n",
       "      <td>-0.387791</td>\n",
       "      <td>-0.584181</td>\n",
       "    </tr>\n",
       "    <tr>\n",
       "      <th>3</th>\n",
       "      <td>39c16e</td>\n",
       "      <td>Summarize at least 3 elements of an ideal trag...</td>\n",
       "      <td>On Tragedy</td>\n",
       "      <td>Chapter 13 \\r\\nAs the sequel to what has alrea...</td>\n",
       "      <td>00cd5736026a</td>\n",
       "      <td>One element of an Ideal tragedy is having a co...</td>\n",
       "      <td>0.088882</td>\n",
       "      <td>-0.594710</td>\n",
       "    </tr>\n",
       "    <tr>\n",
       "      <th>4</th>\n",
       "      <td>39c16e</td>\n",
       "      <td>Summarize at least 3 elements of an ideal trag...</td>\n",
       "      <td>On Tragedy</td>\n",
       "      <td>Chapter 13 \\r\\nAs the sequel to what has alrea...</td>\n",
       "      <td>00d98b8ff756</td>\n",
       "      <td>The 3 ideal of tragedy is how complex you need...</td>\n",
       "      <td>-0.687288</td>\n",
       "      <td>-0.460886</td>\n",
       "    </tr>\n",
       "  </tbody>\n",
       "</table>\n",
       "</div>"
      ],
      "text/plain": [
       "  prompt_id                                    prompt_question prompt_title  \\\n",
       "0    39c16e  Summarize at least 3 elements of an ideal trag...   On Tragedy   \n",
       "1    39c16e  Summarize at least 3 elements of an ideal trag...   On Tragedy   \n",
       "2    39c16e  Summarize at least 3 elements of an ideal trag...   On Tragedy   \n",
       "3    39c16e  Summarize at least 3 elements of an ideal trag...   On Tragedy   \n",
       "4    39c16e  Summarize at least 3 elements of an ideal trag...   On Tragedy   \n",
       "\n",
       "                                         prompt_text    student_id  \\\n",
       "0  Chapter 13 \\r\\nAs the sequel to what has alrea...  00791789cc1f   \n",
       "1  Chapter 13 \\r\\nAs the sequel to what has alrea...  0086ef22de8f   \n",
       "2  Chapter 13 \\r\\nAs the sequel to what has alrea...  0094589c7a22   \n",
       "3  Chapter 13 \\r\\nAs the sequel to what has alrea...  00cd5736026a   \n",
       "4  Chapter 13 \\r\\nAs the sequel to what has alrea...  00d98b8ff756   \n",
       "\n",
       "                                                text   content   wording  \n",
       "0  1 element of an ideal tragedy is that it shoul... -0.210614 -0.471415  \n",
       "1  The three elements of an ideal tragedy are:  H... -0.970237 -0.417058  \n",
       "2  Aristotle states that an ideal tragedy should ... -0.387791 -0.584181  \n",
       "3  One element of an Ideal tragedy is having a co...  0.088882 -0.594710  \n",
       "4  The 3 ideal of tragedy is how complex you need... -0.687288 -0.460886  "
      ]
     },
     "execution_count": 11,
     "metadata": {},
     "output_type": "execute_result"
    }
   ],
   "source": [
    "df_train.head()"
   ]
  },
  {
   "cell_type": "code",
   "execution_count": 12,
   "metadata": {},
   "outputs": [
    {
     "name": "stdout",
     "output_type": "stream",
     "text": [
      "['On Tragedy' 'Egyptian Social Structure' 'The Third Wave'\n",
      " 'Excerpt from The Jungle']\n"
     ]
    }
   ],
   "source": [
    "# print the unique values of the 'prompt_title' column\n",
    "print(df_train[\"prompt_title\"].unique())"
   ]
  },
  {
   "cell_type": "code",
   "execution_count": 13,
   "metadata": {},
   "outputs": [
    {
     "name": "stderr",
     "output_type": "stream",
     "text": [
      "/var/folders/0p/qyx6hw_n0xjbkx26s_w74m000000gn/T/ipykernel_1677/238483951.py:3: DeprecationWarning: DataFrameGroupBy.apply operated on the grouping columns. This behavior is deprecated, and in a future version of pandas the grouping columns will be excluded from the operation. Either pass `include_groups=False` to exclude the groupings or explicitly select the grouping columns after groupby to silence this warning.\n",
      "  df_train.groupby(\"prompt_title\")\n"
     ]
    },
    {
     "data": {
      "text/plain": [
       "(200, 8)"
      ]
     },
     "execution_count": 13,
     "metadata": {},
     "output_type": "execute_result"
    }
   ],
   "source": [
    "# take 50 random rows for each prompt_title\n",
    "df_train = (\n",
    "    df_train.groupby(\"prompt_title\")\n",
    "    .apply(lambda x: x.sample(n=50))\n",
    "    .reset_index(drop=True)\n",
    ")\n",
    "df_train.shape"
   ]
  },
  {
   "cell_type": "code",
   "execution_count": 14,
   "metadata": {},
   "outputs": [
    {
     "name": "stdout",
     "output_type": "stream",
     "text": [
      "['Egyptian Social Structure' 'Excerpt from The Jungle' 'On Tragedy'\n",
      " 'The Third Wave']\n"
     ]
    }
   ],
   "source": [
    "print(df_train[\"prompt_title\"].unique())"
   ]
  },
  {
   "cell_type": "code",
   "execution_count": 15,
   "metadata": {},
   "outputs": [
    {
     "data": {
      "text/plain": [
       "Index(['prompt_id', 'prompt_question', 'prompt_title', 'prompt_text',\n",
       "       'student_id', 'text', 'content', 'wording'],\n",
       "      dtype='object')"
      ]
     },
     "execution_count": 15,
     "metadata": {},
     "output_type": "execute_result"
    }
   ],
   "source": [
    "df_train.columns"
   ]
  },
  {
   "cell_type": "code",
   "execution_count": 16,
   "metadata": {},
   "outputs": [],
   "source": [
    "# only keep text and score columns\n",
    "df_train = df_train[[\"text\", \"content\", \"wording\"]]"
   ]
  },
  {
   "cell_type": "code",
   "execution_count": 23,
   "metadata": {},
   "outputs": [],
   "source": [
    "import random"
   ]
  },
  {
   "cell_type": "code",
   "execution_count": 24,
   "metadata": {},
   "outputs": [],
   "source": [
    "def simulate_adhd_writing(summary):\n",
    "    # Function to introduce occasional spelling mistakes\n",
    "    def add_spelling_mistakes(word):\n",
    "        if random.random() < 0.2:  # 20% chance of introducing a mistake\n",
    "            position = random.randint(0, len(word) - 1)\n",
    "            return (\n",
    "                word[:position]\n",
    "                + random.choice(\"abcdefghijklmnopqrstuvwxyz\")\n",
    "                + word[position:]\n",
    "            )\n",
    "        else:\n",
    "            return word\n",
    "\n",
    "    # Function to use informal language and slang\n",
    "    def add_slang(word):\n",
    "        slang_dict = {\n",
    "            \"awesome\": \"totally awesome\",\n",
    "            \"cool\": \"super cool\",\n",
    "            \"friend\": \"buddy\",\n",
    "            \"amazing\": \"crazy cool\",\n",
    "        }\n",
    "        return slang_dict.get(word, word)\n",
    "\n",
    "    words = summary.split()\n",
    "\n",
    "    # Introduce spelling mistakes\n",
    "    words = [add_spelling_mistakes(word) for word in words]\n",
    "\n",
    "    # Use informal language and slang\n",
    "    words = [add_slang(word) for word in words]\n",
    "\n",
    "    # Vary sentence lengths\n",
    "    new_summary = \"\"\n",
    "    sentence_length = random.randint(3, 10)\n",
    "    for i, word in enumerate(words):\n",
    "        if i % sentence_length == 0 and i != 0:\n",
    "            new_summary += \". \"  # End the previous sentence\n",
    "            sentence_length = random.randint(\n",
    "                3, 10\n",
    "            )  # Randomly determine the next sentence length\n",
    "        new_summary += \" \" + word\n",
    "\n",
    "    # Add a positive tone\n",
    "    new_summary = f\"{new_summary.strip()}. It was like, so amazing!\"\n",
    "\n",
    "    return new_summary"
   ]
  },
  {
   "cell_type": "code",
   "execution_count": 25,
   "metadata": {},
   "outputs": [],
   "source": [
    "df_train[\"adhd_text\"] = df_train[\"text\"].apply(simulate_adhd_writing)"
   ]
  },
  {
   "cell_type": "code",
   "execution_count": 32,
   "metadata": {},
   "outputs": [],
   "source": [
    "import random\n",
    "import math\n",
    "\n",
    "\n",
    "def sigmoid(x):\n",
    "    return 1 / (1 + math.exp(-x))\n",
    "\n",
    "\n",
    "def adjust_scores_for_adhd(content_score, wording_score):\n",
    "    # Adjust content score for ADHD style\n",
    "    content_adjustment = random.uniform(-2.00000, 2.000000)\n",
    "    adjusted_content_score = sigmoid(content_score + content_adjustment)\n",
    "\n",
    "    # Adjust wording score for ADHD style\n",
    "    wording_adjustment = random.uniform(-2.000000, 2.000000)\n",
    "    adjusted_wording_score = sigmoid(wording_score + wording_adjustment)\n",
    "\n",
    "    return adjusted_content_score, adjusted_wording_score"
   ]
  },
  {
   "cell_type": "code",
   "execution_count": 33,
   "metadata": {},
   "outputs": [],
   "source": [
    "df_train[\"adhd_content_score\"], df_train[\"adhd_wording_score\"] = zip(\n",
    "    *df_train.apply(\n",
    "        lambda x: adjust_scores_for_adhd(x[\"content\"], x[\"wording\"]), axis=1\n",
    "    )\n",
    ")"
   ]
  },
  {
   "cell_type": "code",
   "execution_count": 16,
   "metadata": {},
   "outputs": [
    {
     "data": {
      "text/html": [
       "<div>\n",
       "<style scoped>\n",
       "    .dataframe tbody tr th:only-of-type {\n",
       "        vertical-align: middle;\n",
       "    }\n",
       "\n",
       "    .dataframe tbody tr th {\n",
       "        vertical-align: top;\n",
       "    }\n",
       "\n",
       "    .dataframe thead th {\n",
       "        text-align: right;\n",
       "    }\n",
       "</style>\n",
       "<table border=\"1\" class=\"dataframe\">\n",
       "  <thead>\n",
       "    <tr style=\"text-align: right;\">\n",
       "      <th></th>\n",
       "      <th>prompt_id</th>\n",
       "      <th>prompt_question</th>\n",
       "      <th>prompt_title</th>\n",
       "      <th>prompt_text</th>\n",
       "      <th>student_id</th>\n",
       "      <th>text</th>\n",
       "      <th>content</th>\n",
       "      <th>wording</th>\n",
       "    </tr>\n",
       "  </thead>\n",
       "  <tbody>\n",
       "    <tr>\n",
       "      <th>0</th>\n",
       "      <td>3b9047</td>\n",
       "      <td>In complete sentences, summarize the structure...</td>\n",
       "      <td>Egyptian Social Structure</td>\n",
       "      <td>Egyptian society was structured like a pyramid...</td>\n",
       "      <td>ded6a14b4c27</td>\n",
       "      <td>In the structure of the ancient Egyptian gover...</td>\n",
       "      <td>-0.301962</td>\n",
       "      <td>0.077857</td>\n",
       "    </tr>\n",
       "    <tr>\n",
       "      <th>1</th>\n",
       "      <td>3b9047</td>\n",
       "      <td>In complete sentences, summarize the structure...</td>\n",
       "      <td>Egyptian Social Structure</td>\n",
       "      <td>Egyptian society was structured like a pyramid...</td>\n",
       "      <td>95c8b1d33694</td>\n",
       "      <td>In the ancient Egyptian system of government, ...</td>\n",
       "      <td>-0.066112</td>\n",
       "      <td>-0.715083</td>\n",
       "    </tr>\n",
       "    <tr>\n",
       "      <th>2</th>\n",
       "      <td>3b9047</td>\n",
       "      <td>In complete sentences, summarize the structure...</td>\n",
       "      <td>Egyptian Social Structure</td>\n",
       "      <td>Egyptian society was structured like a pyramid...</td>\n",
       "      <td>55918828da86</td>\n",
       "      <td>The a try tire of ancient Egypt is they belove...</td>\n",
       "      <td>-0.974242</td>\n",
       "      <td>-0.751414</td>\n",
       "    </tr>\n",
       "    <tr>\n",
       "      <th>3</th>\n",
       "      <td>3b9047</td>\n",
       "      <td>In complete sentences, summarize the structure...</td>\n",
       "      <td>Egyptian Social Structure</td>\n",
       "      <td>Egyptian society was structured like a pyramid...</td>\n",
       "      <td>e70311747892</td>\n",
       "      <td>The pharoah is at the top and is seen as the s...</td>\n",
       "      <td>0.610711</td>\n",
       "      <td>1.216344</td>\n",
       "    </tr>\n",
       "    <tr>\n",
       "      <th>4</th>\n",
       "      <td>3b9047</td>\n",
       "      <td>In complete sentences, summarize the structure...</td>\n",
       "      <td>Egyptian Social Structure</td>\n",
       "      <td>Egyptian society was structured like a pyramid...</td>\n",
       "      <td>875c0d066910</td>\n",
       "      <td>Different social classes were involved in this...</td>\n",
       "      <td>0.088882</td>\n",
       "      <td>-0.594710</td>\n",
       "    </tr>\n",
       "    <tr>\n",
       "      <th>...</th>\n",
       "      <td>...</td>\n",
       "      <td>...</td>\n",
       "      <td>...</td>\n",
       "      <td>...</td>\n",
       "      <td>...</td>\n",
       "      <td>...</td>\n",
       "      <td>...</td>\n",
       "      <td>...</td>\n",
       "    </tr>\n",
       "    <tr>\n",
       "      <th>195</th>\n",
       "      <td>814d6b</td>\n",
       "      <td>Summarize how the Third Wave developed over su...</td>\n",
       "      <td>The Third Wave</td>\n",
       "      <td>Background \\r\\nThe Third Wave experiment took ...</td>\n",
       "      <td>be6dddc74b14</td>\n",
       "      <td>It started off with the question Ron Jones fou...</td>\n",
       "      <td>3.108995</td>\n",
       "      <td>1.495397</td>\n",
       "    </tr>\n",
       "    <tr>\n",
       "      <th>196</th>\n",
       "      <td>814d6b</td>\n",
       "      <td>Summarize how the Third Wave developed over su...</td>\n",
       "      <td>The Third Wave</td>\n",
       "      <td>Background \\r\\nThe Third Wave experiment took ...</td>\n",
       "      <td>5f5d3ecc6779</td>\n",
       "      <td>The Third Wave was an experiment that tested t...</td>\n",
       "      <td>1.690740</td>\n",
       "      <td>1.461055</td>\n",
       "    </tr>\n",
       "    <tr>\n",
       "      <th>197</th>\n",
       "      <td>814d6b</td>\n",
       "      <td>Summarize how the Third Wave developed over su...</td>\n",
       "      <td>The Third Wave</td>\n",
       "      <td>Background \\r\\nThe Third Wave experiment took ...</td>\n",
       "      <td>1dc0c8ae7019</td>\n",
       "      <td>The Third Wave was tremendously effective. It ...</td>\n",
       "      <td>-0.676259</td>\n",
       "      <td>0.670956</td>\n",
       "    </tr>\n",
       "    <tr>\n",
       "      <th>198</th>\n",
       "      <td>814d6b</td>\n",
       "      <td>Summarize how the Third Wave developed over su...</td>\n",
       "      <td>The Third Wave</td>\n",
       "      <td>Background \\r\\nThe Third Wave experiment took ...</td>\n",
       "      <td>21c30b4863fd</td>\n",
       "      <td>Ron Jones created some sort of dictatorship in...</td>\n",
       "      <td>2.926299</td>\n",
       "      <td>2.593940</td>\n",
       "    </tr>\n",
       "    <tr>\n",
       "      <th>199</th>\n",
       "      <td>814d6b</td>\n",
       "      <td>Summarize how the Third Wave developed over su...</td>\n",
       "      <td>The Third Wave</td>\n",
       "      <td>Background \\r\\nThe Third Wave experiment took ...</td>\n",
       "      <td>fd4aed21ec64</td>\n",
       "      <td>The third wave  started with jones telling the...</td>\n",
       "      <td>0.376374</td>\n",
       "      <td>0.463619</td>\n",
       "    </tr>\n",
       "  </tbody>\n",
       "</table>\n",
       "<p>200 rows × 8 columns</p>\n",
       "</div>"
      ],
      "text/plain": [
       "    prompt_id                                    prompt_question  \\\n",
       "0      3b9047  In complete sentences, summarize the structure...   \n",
       "1      3b9047  In complete sentences, summarize the structure...   \n",
       "2      3b9047  In complete sentences, summarize the structure...   \n",
       "3      3b9047  In complete sentences, summarize the structure...   \n",
       "4      3b9047  In complete sentences, summarize the structure...   \n",
       "..        ...                                                ...   \n",
       "195    814d6b  Summarize how the Third Wave developed over su...   \n",
       "196    814d6b  Summarize how the Third Wave developed over su...   \n",
       "197    814d6b  Summarize how the Third Wave developed over su...   \n",
       "198    814d6b  Summarize how the Third Wave developed over su...   \n",
       "199    814d6b  Summarize how the Third Wave developed over su...   \n",
       "\n",
       "                  prompt_title  \\\n",
       "0    Egyptian Social Structure   \n",
       "1    Egyptian Social Structure   \n",
       "2    Egyptian Social Structure   \n",
       "3    Egyptian Social Structure   \n",
       "4    Egyptian Social Structure   \n",
       "..                         ...   \n",
       "195             The Third Wave   \n",
       "196             The Third Wave   \n",
       "197             The Third Wave   \n",
       "198             The Third Wave   \n",
       "199             The Third Wave   \n",
       "\n",
       "                                           prompt_text    student_id  \\\n",
       "0    Egyptian society was structured like a pyramid...  ded6a14b4c27   \n",
       "1    Egyptian society was structured like a pyramid...  95c8b1d33694   \n",
       "2    Egyptian society was structured like a pyramid...  55918828da86   \n",
       "3    Egyptian society was structured like a pyramid...  e70311747892   \n",
       "4    Egyptian society was structured like a pyramid...  875c0d066910   \n",
       "..                                                 ...           ...   \n",
       "195  Background \\r\\nThe Third Wave experiment took ...  be6dddc74b14   \n",
       "196  Background \\r\\nThe Third Wave experiment took ...  5f5d3ecc6779   \n",
       "197  Background \\r\\nThe Third Wave experiment took ...  1dc0c8ae7019   \n",
       "198  Background \\r\\nThe Third Wave experiment took ...  21c30b4863fd   \n",
       "199  Background \\r\\nThe Third Wave experiment took ...  fd4aed21ec64   \n",
       "\n",
       "                                                  text   content   wording  \n",
       "0    In the structure of the ancient Egyptian gover... -0.301962  0.077857  \n",
       "1    In the ancient Egyptian system of government, ... -0.066112 -0.715083  \n",
       "2    The a try tire of ancient Egypt is they belove... -0.974242 -0.751414  \n",
       "3    The pharoah is at the top and is seen as the s...  0.610711  1.216344  \n",
       "4    Different social classes were involved in this...  0.088882 -0.594710  \n",
       "..                                                 ...       ...       ...  \n",
       "195  It started off with the question Ron Jones fou...  3.108995  1.495397  \n",
       "196  The Third Wave was an experiment that tested t...  1.690740  1.461055  \n",
       "197  The Third Wave was tremendously effective. It ... -0.676259  0.670956  \n",
       "198  Ron Jones created some sort of dictatorship in...  2.926299  2.593940  \n",
       "199  The third wave  started with jones telling the...  0.376374  0.463619  \n",
       "\n",
       "[200 rows x 8 columns]"
      ]
     },
     "execution_count": 16,
     "metadata": {},
     "output_type": "execute_result"
    }
   ],
   "source": [
    "df_train"
   ]
  },
  {
   "cell_type": "code",
   "execution_count": 17,
   "metadata": {},
   "outputs": [],
   "source": [
    "# save the dataframe to a csv file\n",
    "df_train.to_csv(\"df_train.csv\")"
   ]
  },
  {
   "cell_type": "markdown",
   "metadata": {},
   "source": [
    "# Exploratory Data Analysis (EDA)\n"
   ]
  },
  {
   "cell_type": "code",
   "execution_count": 16,
   "metadata": {},
   "outputs": [
    {
     "data": {
      "text/plain": [
       "(10, 8)"
      ]
     },
     "execution_count": 16,
     "metadata": {},
     "output_type": "execute_result"
    }
   ],
   "source": [
    "df_train.shape"
   ]
  },
  {
   "cell_type": "code",
   "execution_count": 17,
   "metadata": {},
   "outputs": [],
   "source": [
    "# save the first 5 rows of df_train to a csv file\n",
    "df_train.head().to_csv(\"df_train.csv\")"
   ]
  },
  {
   "cell_type": "code",
   "execution_count": 18,
   "metadata": {},
   "outputs": [
    {
     "data": {
      "text/plain": [
       "Index(['prompt_id', 'prompt_question', 'prompt_title', 'prompt_text',\n",
       "       'student_id', 'text', 'content', 'wording'],\n",
       "      dtype='object')"
      ]
     },
     "execution_count": 18,
     "metadata": {},
     "output_type": "execute_result"
    }
   ],
   "source": [
    "df_train.columns"
   ]
  },
  {
   "cell_type": "code",
   "execution_count": 19,
   "metadata": {},
   "outputs": [
    {
     "name": "stdout",
     "output_type": "stream",
     "text": [
      "<class 'pandas.core.frame.DataFrame'>\n",
      "RangeIndex: 10 entries, 0 to 9\n",
      "Data columns (total 8 columns):\n",
      " #   Column           Non-Null Count  Dtype  \n",
      "---  ------           --------------  -----  \n",
      " 0   prompt_id        10 non-null     object \n",
      " 1   prompt_question  10 non-null     object \n",
      " 2   prompt_title     10 non-null     object \n",
      " 3   prompt_text      10 non-null     object \n",
      " 4   student_id       10 non-null     object \n",
      " 5   text             10 non-null     object \n",
      " 6   content          10 non-null     float64\n",
      " 7   wording          10 non-null     float64\n",
      "dtypes: float64(2), object(6)\n",
      "memory usage: 768.0+ bytes\n"
     ]
    }
   ],
   "source": [
    "df_train.info()"
   ]
  },
  {
   "cell_type": "code",
   "execution_count": 20,
   "metadata": {},
   "outputs": [
    {
     "data": {
      "text/html": [
       "<div>\n",
       "<style scoped>\n",
       "    .dataframe tbody tr th:only-of-type {\n",
       "        vertical-align: middle;\n",
       "    }\n",
       "\n",
       "    .dataframe tbody tr th {\n",
       "        vertical-align: top;\n",
       "    }\n",
       "\n",
       "    .dataframe thead th {\n",
       "        text-align: right;\n",
       "    }\n",
       "</style>\n",
       "<table border=\"1\" class=\"dataframe\">\n",
       "  <thead>\n",
       "    <tr style=\"text-align: right;\">\n",
       "      <th></th>\n",
       "      <th>content</th>\n",
       "      <th>wording</th>\n",
       "    </tr>\n",
       "  </thead>\n",
       "  <tbody>\n",
       "    <tr>\n",
       "      <th>count</th>\n",
       "      <td>10.000000</td>\n",
       "      <td>10.000000</td>\n",
       "    </tr>\n",
       "    <tr>\n",
       "      <th>mean</th>\n",
       "      <td>-0.465559</td>\n",
       "      <td>-0.432527</td>\n",
       "    </tr>\n",
       "    <tr>\n",
       "      <th>std</th>\n",
       "      <td>0.926348</td>\n",
       "      <td>1.029566</td>\n",
       "    </tr>\n",
       "    <tr>\n",
       "      <th>min</th>\n",
       "      <td>-1.547163</td>\n",
       "      <td>-1.505073</td>\n",
       "    </tr>\n",
       "    <tr>\n",
       "      <th>25%</th>\n",
       "      <td>-1.190720</td>\n",
       "      <td>-1.244611</td>\n",
       "    </tr>\n",
       "    <tr>\n",
       "      <th>50%</th>\n",
       "      <td>-0.537539</td>\n",
       "      <td>-0.527798</td>\n",
       "    </tr>\n",
       "    <tr>\n",
       "      <th>75%</th>\n",
       "      <td>0.014008</td>\n",
       "      <td>-0.428015</td>\n",
       "    </tr>\n",
       "    <tr>\n",
       "      <th>max</th>\n",
       "      <td>1.199642</td>\n",
       "      <td>1.551633</td>\n",
       "    </tr>\n",
       "  </tbody>\n",
       "</table>\n",
       "</div>"
      ],
      "text/plain": [
       "         content    wording\n",
       "count  10.000000  10.000000\n",
       "mean   -0.465559  -0.432527\n",
       "std     0.926348   1.029566\n",
       "min    -1.547163  -1.505073\n",
       "25%    -1.190720  -1.244611\n",
       "50%    -0.537539  -0.527798\n",
       "75%     0.014008  -0.428015\n",
       "max     1.199642   1.551633"
      ]
     },
     "execution_count": 20,
     "metadata": {},
     "output_type": "execute_result"
    }
   ],
   "source": [
    "df_train.describe()"
   ]
  },
  {
   "cell_type": "code",
   "execution_count": 21,
   "metadata": {},
   "outputs": [
    {
     "name": "stdout",
     "output_type": "stream",
     "text": [
      "Duplicate Rows: 0\n"
     ]
    }
   ],
   "source": [
    "# Check for duplicate rows\n",
    "print(\"Duplicate Rows:\", df_train.duplicated().sum())"
   ]
  },
  {
   "cell_type": "code",
   "execution_count": 22,
   "metadata": {},
   "outputs": [
    {
     "name": "stdout",
     "output_type": "stream",
     "text": [
      "Null Values: prompt_id          0\n",
      "prompt_question    0\n",
      "prompt_title       0\n",
      "prompt_text        0\n",
      "student_id         0\n",
      "text               0\n",
      "content            0\n",
      "wording            0\n",
      "dtype: int64\n"
     ]
    }
   ],
   "source": [
    "print(\"Null Values:\", df_train.isnull().sum())  # Check for null values"
   ]
  },
  {
   "cell_type": "code",
   "execution_count": 23,
   "metadata": {},
   "outputs": [
    {
     "name": "stdout",
     "output_type": "stream",
     "text": [
      "prompt_id 1\n",
      "prompt_question 1\n",
      "prompt_title 1\n",
      "prompt_text 1\n",
      "student_id 10\n",
      "text 10\n",
      "content 9\n",
      "wording 9\n"
     ]
    }
   ],
   "source": [
    "# print unique values of every column\n",
    "for col in df_train.columns:\n",
    "    print(col, df_train[col].nunique())"
   ]
  },
  {
   "cell_type": "code",
   "execution_count": 24,
   "metadata": {},
   "outputs": [
    {
     "data": {
      "image/png": "[encoded data removed]",
      "text/plain": [
       "<Figure size 640x480 with 1 Axes>"
      ]
     },
     "metadata": {},
     "output_type": "display_data"
    }
   ],
   "source": [
    "ax = sns.countplot(x=\"prompt_title\", data=df_train)\n",
    "for container in ax.containers:\n",
    "    ax.bar_label(container)\n",
    "plt.xticks(rotation=90)  # Rotate x-axis labels for better readability\n",
    "plt.title(\"Distribution of Prompt Titles\")\n",
    "plt.show()"
   ]
  },
  {
   "cell_type": "code",
   "execution_count": 25,
   "metadata": {},
   "outputs": [
    {
     "data": {
      "image/png": "[encoded data removed]",
      "text/plain": [
       "<Figure size 640x480 with 1 Axes>"
      ]
     },
     "metadata": {},
     "output_type": "display_data"
    }
   ],
   "source": [
    "ax = sns.countplot(x=\"prompt_id\", data=df_train)\n",
    "for container in ax.containers:\n",
    "    ax.bar_label(container)\n",
    "plt.xticks(rotation=90)  # Rotate x-axis labels for better readability\n",
    "plt.title(\"Distribution of Prompt Titles\")\n",
    "plt.show()"
   ]
  },
  {
   "cell_type": "code",
   "execution_count": 26,
   "metadata": {},
   "outputs": [
    {
     "data": {
      "text/plain": [
       "[Text(0.5, 1.0, 'Character Count')]"
      ]
     },
     "execution_count": 26,
     "metadata": {},
     "output_type": "execute_result"
    },
    {
     "data": {
      "image/png": "[encoded data removed]",
      "text/plain": [
       "<Figure size 1000x500 with 2 Axes>"
      ]
     },
     "metadata": {},
     "output_type": "display_data"
    }
   ],
   "source": [
    "plt.figure(figsize=(10, 5))\n",
    "plt.subplot(1, 2, 1)\n",
    "sns.histplot(x=df_train[\"text\"].apply(\n",
    "    lambda x: len(x.split()))).set(title=\"Word Count\")\n",
    "plt.subplot(1, 2, 2)\n",
    "sns.histplot(x=df_train[\"text\"].apply(lambda x: len(x))\n",
    "             ).set(title=\"Character Count\")"
   ]
  },
  {
   "cell_type": "code",
   "execution_count": 27,
   "metadata": {},
   "outputs": [
    {
     "data": {
      "image/png": "[encoded data removed]",
      "text/plain": [
       "<Figure size 1000x500 with 2 Axes>"
      ]
     },
     "metadata": {},
     "output_type": "display_data"
    }
   ],
   "source": [
    "for i in df_train[\"prompt_id\"].unique():\n",
    "    plt.figure(figsize=(10, 5))\n",
    "    plt.subplot(1, 2, 1)\n",
    "    sns.histplot(\n",
    "        x=df_train[df_train[\"prompt_id\"] == i][\"text\"].apply(\n",
    "            lambda x: len(x.split()))\n",
    "    ).set(title=\"Word Count \" + str(i))\n",
    "    plt.subplot(1, 2, 2)\n",
    "    sns.histplot(\n",
    "        x=df_train[df_train[\"prompt_id\"] == i][\"text\"].apply(lambda x: len(x))\n",
    "    ).set(title=\"Character Count \" + str(i))"
   ]
  },
  {
   "cell_type": "code",
   "execution_count": 28,
   "metadata": {},
   "outputs": [
    {
     "name": "stdout",
     "output_type": "stream",
     "text": [
      "Most Frequent Words in the Text Column\n"
     ]
    },
    {
     "data": {
      "text/plain": [
       "[('the', 28),\n",
       " ('a', 23),\n",
       " ('that', 17),\n",
       " ('and', 17),\n",
       " ('of', 16),\n",
       " ('have', 15),\n",
       " ('should', 14),\n",
       " ('is', 13),\n",
       " ('tragedy', 12),\n",
       " ('to', 11),\n",
       " ('it', 9),\n",
       " ('an', 8),\n",
       " ('ideal', 8),\n",
       " ('be', 8),\n",
       " ('good', 7),\n",
       " ('element', 6),\n",
       " ('character', 6),\n",
       " ('on', 5),\n",
       " ('complex', 5),\n",
       " ('The', 5)]"
      ]
     },
     "execution_count": 28,
     "metadata": {},
     "output_type": "execute_result"
    }
   ],
   "source": [
    "# most frequent words in the text column\n",
    "print(\"Most Frequent Words in the Text Column\")\n",
    "Counter(\" \".join(df_train[\"text\"]).split()).most_common(20)"
   ]
  },
  {
   "cell_type": "code",
   "execution_count": 29,
   "metadata": {},
   "outputs": [
    {
     "name": "stdout",
     "output_type": "stream",
     "text": [
      "Most Frequent Words in the Text Column for Prompt ID 39c16e\n",
      "[('the', 28), ('a', 23), ('that', 17), ('and', 17), ('of', 16), ('have', 15), ('should', 14), ('is', 13), ('tragedy', 12), ('to', 11), ('it', 9), ('an', 8), ('ideal', 8), ('be', 8), ('good', 7), ('element', 6), ('character', 6), ('on', 5), ('complex', 5), ('The', 5)]\n"
     ]
    }
   ],
   "source": [
    "# most frequent words by prompt id\n",
    "for i in df_train[\"prompt_id\"].unique():\n",
    "    print(\"Most Frequent Words in the Text Column for Prompt ID\", i)\n",
    "    print(\n",
    "        Counter(\n",
    "            \" \".join(df_train[df_train[\"prompt_id\"] == i][\"text\"]).split()\n",
    "        ).most_common(20)\n",
    "    )"
   ]
  },
  {
   "cell_type": "code",
   "execution_count": 30,
   "metadata": {},
   "outputs": [
    {
     "data": {
      "image/png": "[encoded data removed]",
      "text/plain": [
       "<Figure size 1000x600 with 1 Axes>"
      ]
     },
     "metadata": {},
     "output_type": "display_data"
    }
   ],
   "source": [
    "# print most frequent words\n",
    "all_text = \" \".join(df_train[\"text\"])\n",
    "\n",
    "# Tokenize the text (split it into words)\n",
    "words = nltk.word_tokenize(all_text)\n",
    "\n",
    "# Remove stopwords (common words like 'the', 'and', 'in' that don't carry much meaning)\n",
    "stop_words = set(stopwords.words(\"english\"))\n",
    "filtered_words = [\n",
    "    word.lower() for word in words if word.isalpha() and word.lower() not in stop_words\n",
    "]\n",
    "\n",
    "# Count the frequency of each word\n",
    "word_counts = pd.Series(filtered_words).value_counts()\n",
    "\n",
    "# Get the most common words (you can adjust the number as needed)\n",
    "most_common_words = word_counts.head(10)  # Change 10 to the desired number\n",
    "\n",
    "# Plot the most common words\n",
    "plt.figure(figsize=(10, 6))\n",
    "sns.barplot(x=most_common_words.values, y=most_common_words.index)\n",
    "plt.title(\"Most Common Words\")\n",
    "plt.xlabel(\"Frequency\")\n",
    "plt.ylabel(\"Words\")\n",
    "plt.show()"
   ]
  },
  {
   "cell_type": "code",
   "execution_count": 31,
   "metadata": {},
   "outputs": [
    {
     "data": {
      "image/png": "[encoded data removed]",
      "text/plain": [
       "<Figure size 1000x600 with 1 Axes>"
      ]
     },
     "metadata": {},
     "output_type": "display_data"
    }
   ],
   "source": [
    "# print most frequent words by prompt id\n",
    "for i in df_train[\"prompt_id\"].unique():\n",
    "    all_text = \" \".join(df_train[df_train[\"prompt_id\"] == i][\"text\"])\n",
    "    words = nltk.word_tokenize(all_text)\n",
    "    filtered_words = [\n",
    "        word.lower()\n",
    "        for word in words\n",
    "        if word.isalpha() and word.lower() not in stop_words\n",
    "    ]\n",
    "    word_counts = pd.Series(filtered_words).value_counts()\n",
    "    most_common_words = word_counts.head(10)  # Change 10 to the desired number\n",
    "    plt.figure(figsize=(10, 6))\n",
    "    sns.barplot(x=most_common_words.values, y=most_common_words.index)\n",
    "    plt.title(\"Most Common Words for Prompt ID \" + str(i))\n",
    "    plt.xlabel(\"Frequency\")\n",
    "    plt.ylabel(\"Words\")\n",
    "    plt.show()"
   ]
  },
  {
   "cell_type": "code",
   "execution_count": 32,
   "metadata": {},
   "outputs": [
    {
     "data": {
      "text/plain": [
       "<Axes: >"
      ]
     },
     "execution_count": 32,
     "metadata": {},
     "output_type": "execute_result"
    },
    {
     "data": {
      "image/png": "[encoded data removed]",
      "text/plain": [
       "<Figure size 640x480 with 1 Axes>"
      ]
     },
     "metadata": {},
     "output_type": "display_data"
    }
   ],
   "source": [
    "# Pairs of Words using Ngrams\n",
    "frequent = (\n",
    "    df_train[\"text\"]\n",
    "    .apply(lambda x: list(ngrams(x.split(), 2)))\n",
    "    .explode()\n",
    "    .value_counts()\n",
    ")\n",
    "x, y = [], []\n",
    "for word, count in enumerate(frequent):\n",
    "    if len(x) == 10:\n",
    "        break\n",
    "    x.append(\" \".join(frequent.index[word]))\n",
    "    y.append(count)\n",
    "sns.barplot(x=y, y=x)"
   ]
  },
  {
   "cell_type": "code",
   "execution_count": 33,
   "metadata": {},
   "outputs": [
    {
     "data": {
      "image/png": "[encoded data removed]",
      "text/plain": [
       "<Figure size 640x480 with 1 Axes>"
      ]
     },
     "metadata": {},
     "output_type": "display_data"
    }
   ],
   "source": [
    "# print pairs of words by prompt id\n",
    "for i in df_train[\"prompt_id\"].unique():\n",
    "    frequent = (\n",
    "        df_train[df_train[\"prompt_id\"] == i][\"text\"]\n",
    "        .apply(lambda x: list(ngrams(x.split(), 2)))\n",
    "        .explode()\n",
    "        .value_counts()\n",
    "    )\n",
    "    x, y = [], []\n",
    "    for word, count in enumerate(frequent):\n",
    "        if len(x) == 10:\n",
    "            break\n",
    "        x.append(\" \".join(frequent.index[word]))\n",
    "        y.append(count)\n",
    "    sns.barplot(x=y, y=x)\n",
    "    plt.title(\"Most Frequent Pairs of Words for Prompt ID \" + str(i))\n",
    "    plt.xlabel(\"Frequency\")\n",
    "    plt.ylabel(\"Words\")\n",
    "    plt.show()"
   ]
  },
  {
   "cell_type": "code",
   "execution_count": 34,
   "metadata": {},
   "outputs": [
    {
     "data": {
      "text/plain": [
       "<Axes: >"
      ]
     },
     "execution_count": 34,
     "metadata": {},
     "output_type": "execute_result"
    },
    {
     "data": {
      "image/png": "[encoded data removed]",
      "text/plain": [
       "<Figure size 640x480 with 1 Axes>"
      ]
     },
     "metadata": {},
     "output_type": "display_data"
    }
   ],
   "source": [
    "# Pairs of Words using Ngrams\n",
    "frequent = (\n",
    "    df_train[\"text\"]\n",
    "    .apply(lambda x: list(ngrams(x.split(), 3)))\n",
    "    .explode()\n",
    "    .value_counts()\n",
    ")\n",
    "x, y = [], []\n",
    "for word, count in enumerate(frequent):\n",
    "    if len(x) == 10:\n",
    "        break\n",
    "    x.append(\" \".join(frequent.index[word]))\n",
    "    y.append(count)\n",
    "sns.barplot(x=y, y=x)"
   ]
  },
  {
   "cell_type": "code",
   "execution_count": 35,
   "metadata": {},
   "outputs": [
    {
     "data": {
      "image/png": "[encoded data removed]",
      "text/plain": [
       "<Figure size 640x480 with 1 Axes>"
      ]
     },
     "metadata": {},
     "output_type": "display_data"
    }
   ],
   "source": [
    "# print pairs of words by prompt id\n",
    "for i in df_train[\"prompt_id\"].unique():\n",
    "    frequent = (\n",
    "        df_train[df_train[\"prompt_id\"] == i][\"text\"]\n",
    "        .apply(lambda x: list(ngrams(x.split(), 3)))\n",
    "        .explode()\n",
    "        .value_counts()\n",
    "    )\n",
    "    x, y = [], []\n",
    "    for word, count in enumerate(frequent):\n",
    "        if len(x) == 10:\n",
    "            break\n",
    "        x.append(\" \".join(frequent.index[word]))\n",
    "        y.append(count)\n",
    "    sns.barplot(x=y, y=x)\n",
    "    plt.title(\"Most Frequent Pairs of Words for Prompt ID \" + str(i))\n",
    "    plt.xlabel(\"Frequency\")\n",
    "    plt.ylabel(\"Words\")\n",
    "    plt.show()"
   ]
  },
  {
   "cell_type": "code",
   "execution_count": 36,
   "metadata": {},
   "outputs": [
    {
     "data": {
      "text/plain": [
       "<Axes: xlabel='content', ylabel='Count'>"
      ]
     },
     "execution_count": 36,
     "metadata": {},
     "output_type": "execute_result"
    },
    {
     "data": {
      "image/png": "[encoded data removed]",
      "text/plain": [
       "<Figure size 640x480 with 1 Axes>"
      ]
     },
     "metadata": {},
     "output_type": "display_data"
    }
   ],
   "source": [
    "# Content\n",
    "sns.histplot(df_train[\"content\"])"
   ]
  },
  {
   "cell_type": "code",
   "execution_count": 37,
   "metadata": {},
   "outputs": [
    {
     "data": {
      "text/plain": [
       "<Axes: xlabel='wording', ylabel='Count'>"
      ]
     },
     "execution_count": 37,
     "metadata": {},
     "output_type": "execute_result"
    },
    {
     "data": {
      "image/png": "[encoded data removed]",
      "text/plain": [
       "<Figure size 640x480 with 1 Axes>"
      ]
     },
     "metadata": {},
     "output_type": "display_data"
    }
   ],
   "source": [
    "# Wording\n",
    "sns.histplot(df_train[\"wording\"])"
   ]
  },
  {
   "cell_type": "code",
   "execution_count": 38,
   "metadata": {},
   "outputs": [],
   "source": [
    "# Initialize the BERT tokenizer\n",
    "tokenizer = BertTokenizer.from_pretrained(\"bert-base-uncased\")"
   ]
  },
  {
   "cell_type": "code",
   "execution_count": 39,
   "metadata": {},
   "outputs": [],
   "source": [
    "# Preprocess and tokenize the training data\n",
    "class TextDataset(Dataset):\n",
    "    def __init__(self, encodings, content, wording):\n",
    "        self.encodings = encodings\n",
    "        self.content = content\n",
    "        self.wording = wording\n",
    "\n",
    "    def __getitem__(self, idx):\n",
    "        item = {key: torch.tensor(val[idx])\n",
    "                for key, val in self.encodings.items()}\n",
    "        item[\"content\"] = torch.tensor(self.content[idx])\n",
    "        item[\"wording\"] = torch.tensor(self.wording[idx])\n",
    "        return item\n",
    "\n",
    "    def __len__(self):\n",
    "        return len(self.content)"
   ]
  },
  {
   "cell_type": "code",
   "execution_count": 40,
   "metadata": {},
   "outputs": [],
   "source": [
    "train_texts = df_train[\"text\"].tolist()\n",
    "train_content = df_train[\"content\"].tolist()\n",
    "train_wording = df_train[\"wording\"].tolist()"
   ]
  },
  {
   "cell_type": "code",
   "execution_count": 41,
   "metadata": {},
   "outputs": [],
   "source": [
    "train_encodings = tokenizer(\n",
    "    train_texts, truncation=True, padding=True, max_length=512)\n",
    "train_dataset = TextDataset(train_encodings, train_content, train_wording)"
   ]
  },
  {
   "cell_type": "code",
   "execution_count": 42,
   "metadata": {},
   "outputs": [],
   "source": [
    "# Split the training dataset into train and validation sets\n",
    "train_dataset, val_dataset = train_test_split(train_dataset, test_size=0.2)"
   ]
  },
  {
   "cell_type": "code",
   "execution_count": 43,
   "metadata": {},
   "outputs": [
    {
     "name": "stderr",
     "output_type": "stream",
     "text": [
      "Some weights of BertForSequenceClassification were not initialized from the model checkpoint at bert-base-uncased and are newly initialized: ['classifier.bias', 'classifier.weight']\n",
      "You should probably TRAIN this model on a down-stream task to be able to use it for predictions and inference.\n"
     ]
    }
   ],
   "source": [
    "# Load pre-trained BERT model for sequence classification\n",
    "model = BertForSequenceClassification.from_pretrained(\n",
    "    \"bert-base-uncased\", num_labels=2)"
   ]
  },
  {
   "cell_type": "code",
   "execution_count": 44,
   "metadata": {},
   "outputs": [
    {
     "data": {
      "text/plain": [
       "BertForSequenceClassification(\n",
       "  (bert): BertModel(\n",
       "    (embeddings): BertEmbeddings(\n",
       "      (word_embeddings): Embedding(30522, 768, padding_idx=0)\n",
       "      (position_embeddings): Embedding(512, 768)\n",
       "      (token_type_embeddings): Embedding(2, 768)\n",
       "      (LayerNorm): LayerNorm((768,), eps=1e-12, elementwise_affine=True)\n",
       "      (dropout): Dropout(p=0.1, inplace=False)\n",
       "    )\n",
       "    (encoder): BertEncoder(\n",
       "      (layer): ModuleList(\n",
       "        (0-11): 12 x BertLayer(\n",
       "          (attention): BertAttention(\n",
       "            (self): BertSelfAttention(\n",
       "              (query): Linear(in_features=768, out_features=768, bias=True)\n",
       "              (key): Linear(in_features=768, out_features=768, bias=True)\n",
       "              (value): Linear(in_features=768, out_features=768, bias=True)\n",
       "              (dropout): Dropout(p=0.1, inplace=False)\n",
       "            )\n",
       "            (output): BertSelfOutput(\n",
       "              (dense): Linear(in_features=768, out_features=768, bias=True)\n",
       "              (LayerNorm): LayerNorm((768,), eps=1e-12, elementwise_affine=True)\n",
       "              (dropout): Dropout(p=0.1, inplace=False)\n",
       "            )\n",
       "          )\n",
       "          (intermediate): BertIntermediate(\n",
       "            (dense): Linear(in_features=768, out_features=3072, bias=True)\n",
       "            (intermediate_act_fn): GELUActivation()\n",
       "          )\n",
       "          (output): BertOutput(\n",
       "            (dense): Linear(in_features=3072, out_features=768, bias=True)\n",
       "            (LayerNorm): LayerNorm((768,), eps=1e-12, elementwise_affine=True)\n",
       "            (dropout): Dropout(p=0.1, inplace=False)\n",
       "          )\n",
       "        )\n",
       "      )\n",
       "    )\n",
       "    (pooler): BertPooler(\n",
       "      (dense): Linear(in_features=768, out_features=768, bias=True)\n",
       "      (activation): Tanh()\n",
       "    )\n",
       "  )\n",
       "  (dropout): Dropout(p=0.1, inplace=False)\n",
       "  (classifier): Linear(in_features=768, out_features=2, bias=True)\n",
       ")"
      ]
     },
     "execution_count": 44,
     "metadata": {},
     "output_type": "execute_result"
    }
   ],
   "source": [
    "# Move model to GPU if available\n",
    "device = torch.device(\"cuda\" if torch.cuda.is_available() else \"cpu\")\n",
    "model.to(device)"
   ]
  },
  {
   "cell_type": "code",
   "execution_count": 45,
   "metadata": {},
   "outputs": [],
   "source": [
    "# Define optimizer and loss function\n",
    "optimizer = AdamW(model.parameters(), lr=1e-5)\n",
    "loss_fn = MSELoss()"
   ]
  },
  {
   "cell_type": "code",
   "execution_count": 46,
   "metadata": {},
   "outputs": [],
   "source": [
    "# Define data loaders\n",
    "train_loader = DataLoader(train_dataset, batch_size=16, shuffle=True)\n",
    "val_loader = DataLoader(val_dataset, batch_size=16)"
   ]
  },
  {
   "cell_type": "code",
   "execution_count": 47,
   "metadata": {},
   "outputs": [
    {
     "name": "stdout",
     "output_type": "stream",
     "text": [
      "Epoch 0: Validation Loss: 1.1817538738250732\n",
      "Epoch 1: Validation Loss: 1.2083946466445923\n",
      "Epoch 2: Validation Loss: 1.2307153940200806\n",
      "Epoch 3: Validation Loss: 1.2532219886779785\n",
      "Epoch 4: Validation Loss: 1.2761776447296143\n",
      "Epoch 5: Validation Loss: 1.301453709602356\n",
      "Epoch 6: Validation Loss: 1.3299274444580078\n",
      "Epoch 7: Validation Loss: 1.364717960357666\n",
      "Epoch 8: Validation Loss: 1.4014698266983032\n",
      "Epoch 9: Validation Loss: 1.4403706789016724\n",
      "Epoch 10: Validation Loss: 1.4838345050811768\n",
      "Epoch 11: Validation Loss: 1.528800129890442\n",
      "Epoch 12: Validation Loss: 1.5612685680389404\n",
      "Epoch 13: Validation Loss: 1.5843580961227417\n",
      "Epoch 14: Validation Loss: 1.591675877571106\n",
      "Epoch 15: Validation Loss: 1.5889122486114502\n",
      "Epoch 16: Validation Loss: 1.5800728797912598\n",
      "Epoch 17: Validation Loss: 1.5675519704818726\n",
      "Epoch 18: Validation Loss: 1.5531005859375\n",
      "Epoch 19: Validation Loss: 1.5379173755645752\n",
      "Epoch 20: Validation Loss: 1.5218040943145752\n",
      "Epoch 21: Validation Loss: 1.5066118240356445\n",
      "Epoch 22: Validation Loss: 1.4877562522888184\n",
      "Epoch 23: Validation Loss: 1.468714952468872\n",
      "Epoch 24: Validation Loss: 1.45119309425354\n",
      "Epoch 25: Validation Loss: 1.4335724115371704\n",
      "Epoch 26: Validation Loss: 1.4202680587768555\n",
      "Epoch 27: Validation Loss: 1.4101943969726562\n",
      "Epoch 28: Validation Loss: 1.3990397453308105\n",
      "Epoch 29: Validation Loss: 1.3895119428634644\n",
      "Epoch 30: Validation Loss: 1.3816872835159302\n",
      "Epoch 31: Validation Loss: 1.3743053674697876\n",
      "Epoch 32: Validation Loss: 1.3674004077911377\n",
      "Epoch 33: Validation Loss: 1.3604419231414795\n",
      "Epoch 34: Validation Loss: 1.3553736209869385\n",
      "Epoch 35: Validation Loss: 1.3559730052947998\n",
      "Epoch 36: Validation Loss: 1.3632795810699463\n",
      "Epoch 37: Validation Loss: 1.371078372001648\n",
      "Epoch 38: Validation Loss: 1.3811743259429932\n",
      "Epoch 39: Validation Loss: 1.3921403884887695\n",
      "Epoch 40: Validation Loss: 1.4008857011795044\n",
      "Epoch 41: Validation Loss: 1.4040849208831787\n",
      "Epoch 42: Validation Loss: 1.4053535461425781\n",
      "Epoch 43: Validation Loss: 1.4039586782455444\n",
      "Epoch 44: Validation Loss: 1.3970205783843994\n",
      "Epoch 45: Validation Loss: 1.388579249382019\n",
      "Epoch 46: Validation Loss: 1.3823269605636597\n",
      "Epoch 47: Validation Loss: 1.3785218000411987\n",
      "Epoch 48: Validation Loss: 1.3755561113357544\n",
      "Epoch 49: Validation Loss: 1.3760424852371216\n"
     ]
    }
   ],
   "source": [
    "# Training loop\n",
    "for epoch in range(50):  # number of epochs\n",
    "    model.train()\n",
    "    for batch in train_loader:\n",
    "        optimizer.zero_grad()\n",
    "        input_ids = batch[\"input_ids\"].to(device)\n",
    "        attention_mask = batch[\"attention_mask\"].to(device)\n",
    "        labels = torch.stack(\n",
    "            (batch[\"content\"], batch[\"wording\"]), dim=1).to(device)\n",
    "        outputs = model(input_ids, attention_mask=attention_mask)\n",
    "        loss = loss_fn(outputs.logits, labels)\n",
    "        loss.backward()\n",
    "        optimizer.step()\n",
    "\n",
    "    # Validation loop\n",
    "    model.eval()\n",
    "    total_val_loss = 0\n",
    "    with torch.no_grad():\n",
    "        for batch in val_loader:\n",
    "            input_ids = batch[\"input_ids\"].to(device)\n",
    "            attention_mask = batch[\"attention_mask\"].to(device)\n",
    "            labels = torch.stack(\n",
    "                (batch[\"content\"], batch[\"wording\"]), dim=1).to(device)\n",
    "            outputs = model(input_ids, attention_mask=attention_mask)\n",
    "            loss = loss_fn(outputs.logits, labels)\n",
    "            total_val_loss += loss.item()\n",
    "\n",
    "    average_val_loss = total_val_loss / len(val_loader)\n",
    "    print(f\"Epoch {epoch}: Validation Loss: {average_val_loss}\")"
   ]
  },
  {
   "cell_type": "code",
   "execution_count": 48,
   "metadata": {},
   "outputs": [],
   "source": [
    "# Load and preprocess df_test\n",
    "test_texts = df_test[\"text\"].tolist()\n",
    "\n",
    "# Tokenization for test data\n",
    "test_encodings = tokenizer(test_texts, truncation=True,\n",
    "                           padding=True, max_length=512)"
   ]
  },
  {
   "cell_type": "code",
   "execution_count": 49,
   "metadata": {},
   "outputs": [],
   "source": [
    "# Create a dataset for test data\n",
    "class TestDataset(Dataset):\n",
    "    def __init__(self, encodings):\n",
    "        self.encodings = encodings\n",
    "\n",
    "    def __getitem__(self, idx):\n",
    "        return {key: torch.tensor(val[idx]) for key, val in self.encodings.items()}\n",
    "\n",
    "    def __len__(self):\n",
    "        return len(self.encodings[\"input_ids\"])\n",
    "\n",
    "\n",
    "test_dataset = TestDataset(test_encodings)\n",
    "test_loader = DataLoader(test_dataset, batch_size=16)"
   ]
  },
  {
   "cell_type": "code",
   "execution_count": 50,
   "metadata": {},
   "outputs": [],
   "source": [
    "# Generate predictions for test dataset\n",
    "model.eval()\n",
    "predictions = []\n",
    "\n",
    "with torch.no_grad():\n",
    "    for batch in test_loader:\n",
    "        input_ids = batch[\"input_ids\"].to(device)\n",
    "        attention_mask = batch[\"attention_mask\"].to(device)\n",
    "\n",
    "        outputs = model(input_ids, attention_mask=attention_mask)\n",
    "        logits = outputs.logits\n",
    "        predictions.extend(logits.cpu().numpy())"
   ]
  },
  {
   "cell_type": "code",
   "execution_count": 51,
   "metadata": {},
   "outputs": [
    {
     "name": "stdout",
     "output_type": "stream",
     "text": [
      "[array([-0.3954726 , -0.39835677], dtype=float32), array([-0.28172106, -0.40517354], dtype=float32), array([-0.3510505 , -0.41761068], dtype=float32), array([-0.3115177 , -0.39508805], dtype=float32)]\n"
     ]
    }
   ],
   "source": [
    "# print predictions\n",
    "print(predictions)"
   ]
  },
  {
   "cell_type": "code",
   "execution_count": 53,
   "metadata": {},
   "outputs": [
    {
     "name": "stdout",
     "output_type": "stream",
     "text": [
      "Test Loss: 1.3760424852371216\n"
     ]
    }
   ],
   "source": [
    "# print the test accuracy and loss\n",
    "print(\"Test Loss:\", average_val_loss)"
   ]
  },
  {
   "cell_type": "code",
   "execution_count": null,
   "metadata": {},
   "outputs": [],
   "source": []
  }
 ],
 "metadata": {
  "kernelspec": {
   "display_name": "base",
   "language": "python",
   "name": "python3"
  },
  "language_info": {
   "codemirror_mode": {
    "name": "ipython",
    "version": 3
   },
   "file_extension": ".py",
   "mimetype": "text/x-python",
   "name": "python",
   "nbconvert_exporter": "python",
   "pygments_lexer": "ipython3",
   "version": "3.9.18"
  },
  "orig_nbformat": 4
 },
 "nbformat": 4,
 "nbformat_minor": 2
}
